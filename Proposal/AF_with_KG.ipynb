{
 "cells": [
  {
   "cell_type": "markdown",
   "metadata": {},
   "source": [
    "# Amplification factor proposal\n",
    "---\n",
    "Modification date: 13-Apr-2020\n",
    "\n",
    "- [x] [Github repository](https://github.com/tranminhquan/adv)\n",
    "- [x] [Work tracking](https://drive.google.com/open?id=1XRjaTrR9xw0U5HC1RyeqHXJfN1FnHzdNDiLqJIBONTc)\n",
    "- [x] [References](https://drive.google.com/open?id=1hoCo0Ww8HCZOqgNb_3qvk9Sm9EITu2wOimNPwefTWhY)\n",
    "- [ ] Milestones\n",
    "---\n",
    "\n",
    "## 1. Current AF score\n",
    "---\n",
    "### 1.1 Overview\n",
    "![image](figures/former_AF.PNG)\n",
    "\n",
    "So far, the [current AF score](https://colab.research.google.com/drive/193Mq0t92lQvYF1Lg9lNLkYAiAZmybOey?authuser=2#scrollTo=yUKzsMloSKwm) is defined by **Tuan Tran**:\n",
    "  \n",
    "$$\n",
    "AF = |reactions| + |cmts| + |shares| - (|reactions \\cap cmts| + |cmts \\cap shares| + |reactions \\cap shares|) + |reactions \\cap cmts \\cap shares|\n",
    "$$\n",
    "  \n",
    "  \n",
    "  \n",
    "The former formular treated all reactions, comments and shares **EQUALLY**\n",
    "\n"
   ]
  },
  {
   "cell_type": "markdown",
   "metadata": {},
   "source": [
    "### 1.2 Remarks\n",
    "\n",
    "* **Treating users equally**: In fact, reactions, comments and shares can be bias for each user $\\rightarrow$  *add weights for each user's reactions, comments and shares*\n",
    "* **Ignoring relationship**: relationships among users is ignored $\\rightarrow$ *topology should be taken into account*\n",
    "* **Contribution of other attributes**: former formula did not concern personal attributes, i.e gender, education, interests, groups, etc $\\rightarrow$ *personal attributes should be induced*"
   ]
  },
  {
   "cell_type": "markdown",
   "metadata": {},
   "source": [
    "\n",
    "## 2. Proposal\n",
    "---\n",
    "\n",
    "### 2.1 Assumption\n",
    "\n",
    "> \"Amplification factor depends on **HOW CLOSE** among users\"  \n",
    "$\\rightarrow$ calculate the **SIMILARITY**\n",
    "\n",
    "\n",
    "### 2.2 Similarity definition\n",
    "* HANDCRAFT BASED\n",
    "\n",
    "* AUTOMATION BASED\n",
    "\n",
    "\n",
    "### 2.3 Knowledge Graph approach\n",
    "\n",
    "![image](https://cdn.analyticsvidhya.com/wp-content/uploads/2019/11/SocialNetworkAnalysis_Graph.gif)\n",
    "\n",
    "* **User as vertex** with corresponding attributes: posts, reactions, comments, shares, personal attributes (gender, interests, etc)\n",
    "\n",
    "* **Relationship/Interaction as edge** number of likes, shares, comments, etc from one user to another user\n",
    "\n",
    "### 2.4 Interaction-based Directed Klowdege Graph\n",
    "![image](figures/graph_definition.png)\n",
    "\n",
    "\n",
    "### 2.4 Embedding graph to latent space\n",
    "\n",
    "![image](https://miro.medium.com/max/1000/1*dIHSCxk8ZAR7vI7Fm3iw9A.png)\n",
    "  \n",
    "  \n",
    "  \n",
    "$\\rightarrow$ **The CLOSER the user, the GREATER the similarity**\n",
    "\n",
    "*The embedding system learn to extract features and re-construct the graph in vector space within perserving the topology* (Unsupervised learning)\n",
    "\n",
    "### 2.5 Other applications\n",
    "* **Recommendation system**: suggesting products, friends, ...\n",
    "* **Clustering**: automatically clustering customers based on their behavior\n",
    "* **Customer inference**: predicting customers' behavior\n",
    "* **Link prediction**: predicting connection among customers (or between customers and brands) in the future"
   ]
  },
  {
   "cell_type": "markdown",
   "metadata": {},
   "source": [
    "## 3. Next steps\n",
    "---\n",
    "\n",
    "|N.o|Task                                 | Est. time               | Start day             | End day            | Status   |\n",
    "|---|-------------------------------------|-------------------------|-----------------------|--------------------|----------|\n",
    "|1  | Further researching                 | 2 week                  | 13 - Apr - 2020       |  24 - Apr - 2020   | TO-DO    |\n",
    "|2  | Data requirement for ETS team       | 1 week                  | 13 - Apr - 2020       |  17 - Apr - 2020   | TO-DO    |\n",
    "|3  | Formal proposal                     | 1 week                  | 27 - Apr - 2020       |  29 - Apr - 2020   | TO-DO    |\n",
    "|4  | Building data pipeline              | 1 week                  | 4 - May - 2020        |  8 - May - 2020    | TO-DO    |"
   ]
  },
  {
   "cell_type": "code",
   "execution_count": null,
   "metadata": {},
   "outputs": [],
   "source": []
  }
 ],
 "metadata": {
  "kernelspec": {
   "display_name": "Python 3",
   "language": "python",
   "name": "python3"
  },
  "language_info": {
   "codemirror_mode": {
    "name": "ipython",
    "version": 3
   },
   "file_extension": ".py",
   "mimetype": "text/x-python",
   "name": "python",
   "nbconvert_exporter": "python",
   "pygments_lexer": "ipython3",
   "version": "3.6.9"
  }
 },
 "nbformat": 4,
 "nbformat_minor": 4
}
